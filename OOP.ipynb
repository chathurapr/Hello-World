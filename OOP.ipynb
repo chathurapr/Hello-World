{
  "nbformat": 4,
  "nbformat_minor": 0,
  "metadata": {
    "colab": {
      "name": "OOP.ipynb",
      "provenance": [],
      "authorship_tag": "ABX9TyMyxQjWiyiVuMkxqb+0jcpj",
      "include_colab_link": true
    },
    "kernelspec": {
      "name": "python3",
      "display_name": "Python 3"
    },
    "language_info": {
      "name": "python"
    }
  },
  "cells": [
    {
      "cell_type": "markdown",
      "metadata": {
        "id": "view-in-github",
        "colab_type": "text"
      },
      "source": [
        "<a href=\"https://colab.research.google.com/github/chathurapr/MDA-Programming/blob/master/OOP.ipynb\" target=\"_parent\"><img src=\"https://colab.research.google.com/assets/colab-badge.svg\" alt=\"Open In Colab\"/></a>"
      ]
    },
    {
      "cell_type": "code",
      "metadata": {
        "colab": {
          "base_uri": "https://localhost:8080/"
        },
        "id": "hB4FozCNIN-z",
        "outputId": "dfe43563-d1c6-4512-ad60-df3621ccb15f"
      },
      "source": [
        "class Item:\n",
        "  'The items on sale'\n",
        "\n",
        "  def __init__(self,itmID,itmName,itmPrice):\n",
        "    self.itmID = itmID\n",
        "    self.itmName = itmName\n",
        "    self.itmPrice = itmPrice\n",
        "\n",
        "  def SetItem (self,itmID,itmName,itmPrice):\n",
        "    self.itmID = itmID\n",
        "    self.itmName = itmName\n",
        "    self.itmPrice = itmPrice\n",
        "\n",
        "  def GetItem (self):\n",
        "    print(self.itmID, \"\\t\", self.itmName, \"\\t\", self.itmPrice)\n",
        "\n",
        "class Sale:\n",
        "  'The sale of the juicebar'\n",
        "  itemCount = 0\n",
        "\n",
        "  def __init__(self):\n",
        "    self.sale = []\n",
        "\n",
        "  def AddItem(self,item):\n",
        "    self.sale.append(item)\n",
        "    Sale.itemCount += 1\n",
        "  \n",
        "  def GetItem(self, key):\n",
        "    for x in self.sale:\n",
        "      if x[0] == key:\n",
        "        return x\n",
        "        break\n",
        "\n",
        "sl = Sale()\n",
        "it = Item(1,\"Banana\", 200)\n",
        "sl.AddItem(it)\n",
        "print(Sale.itemCount)\n"
      ],
      "execution_count": 43,
      "outputs": [
        {
          "output_type": "stream",
          "text": [
            "1\n"
          ],
          "name": "stdout"
        }
      ]
    }
  ]
}
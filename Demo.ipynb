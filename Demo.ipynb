{
  "nbformat": 4,
  "nbformat_minor": 0,
  "metadata": {
    "colab": {
      "name": "Demo.ipynb",
      "provenance": [],
      "collapsed_sections": [],
      "authorship_tag": "ABX9TyMbX47bS1kVOtb5S+l5stFW",
      "include_colab_link": true
    },
    "kernelspec": {
      "name": "python3",
      "display_name": "Python 3"
    },
    "language_info": {
      "name": "python"
    }
  },
  "cells": [
    {
      "cell_type": "markdown",
      "metadata": {
        "id": "view-in-github",
        "colab_type": "text"
      },
      "source": [
        "<a href=\"https://colab.research.google.com/github/chathurapr/MDA-Programming/blob/master/Demo.ipynb\" target=\"_parent\"><img src=\"https://colab.research.google.com/assets/colab-badge.svg\" alt=\"Open In Colab\"/></a>"
      ]
    },
    {
      "cell_type": "code",
      "metadata": {
        "colab": {
          "base_uri": "https://localhost:8080/"
        },
        "id": "o4_NM52yOBIn",
        "outputId": "3fc7a784-0dc9-4f67-a296-737ebbc2e6c6"
      },
      "source": [
        "#Add two numbers and display the result\n",
        "\n",
        "myVal01 = 8\n",
        "myVal02 = 10\n",
        "\n",
        "answer = myVal01 + myVal02\n",
        "\n",
        "print(\"The sum of \",myVal01, \"and\", myVal02, \"is: \", answer)"
      ],
      "execution_count": 4,
      "outputs": [
        {
          "output_type": "stream",
          "text": [
            "The sum of  8 and 10 is:  18\n"
          ],
          "name": "stdout"
        }
      ]
    },
    {
      "cell_type": "code",
      "metadata": {
        "colab": {
          "base_uri": "https://localhost:8080/"
        },
        "id": "-LNtW3GaQsTx",
        "outputId": "8023a305-25e3-4113-a8ea-da099cabf1aa"
      },
      "source": [
        "#Take two numbers from the user and add them together. Display the result.\n",
        "\n",
        "myVal01 = int(input(\"Enter the first number: \"))\n",
        "myVal02 = int(input(\"Enter the second number: \"))\n",
        "\n",
        "answer = myVal01 + myVal02\n",
        "\n",
        "print(\"The sum of \", myVal01, \"and\", myVal02, \"is: \", answer)"
      ],
      "execution_count": 6,
      "outputs": [
        {
          "output_type": "stream",
          "text": [
            "Enter the first number: 12\n",
            "Enter the second number: 13\n",
            "The sum of  12 and 13 is:  25\n"
          ],
          "name": "stdout"
        }
      ]
    },
    {
      "cell_type": "code",
      "metadata": {
        "colab": {
          "base_uri": "https://localhost:8080/"
        },
        "id": "W5wtoY1xSMdV",
        "outputId": "09fe2350-3246-4072-b254-f950cf8e7d11"
      },
      "source": [
        "#Python mathematical operators: +, -, /, *, // (integer division), % (modulus), ** (power)\n",
        "\n",
        "myVal01 = 15\n",
        "myVal02 = 2\n",
        "\n",
        "answer = myVal01 ** myVal02 - 100 \n",
        "\n",
        "print(answer)"
      ],
      "execution_count": 18,
      "outputs": [
        {
          "output_type": "stream",
          "text": [
            "125\n"
          ],
          "name": "stdout"
        }
      ]
    },
    {
      "cell_type": "code",
      "metadata": {
        "colab": {
          "base_uri": "https://localhost:8080/"
        },
        "id": "hsIHhhTeT6un",
        "outputId": "e26bf654-be2f-40c4-fc22-98cdb82ca099"
      },
      "source": [
        "# Computer program = Sequence + Selection + Repetition\n",
        "\n",
        "#Get a number from the user. If that number is greater than 25, print \"Success\".\n",
        "\n",
        "myVal = int(input(\"Enter a number: \"))\n",
        "\n",
        "if myVal > 25:   #1. Using a relational operator, 2. indentation\n",
        "  print(\"Success\")   \n",
        "\n",
        "\n",
        "\n"
      ],
      "execution_count": 17,
      "outputs": [
        {
          "output_type": "stream",
          "text": [
            "Enter a number: 26\n",
            "Success\n"
          ],
          "name": "stdout"
        }
      ]
    },
    {
      "cell_type": "code",
      "metadata": {
        "colab": {
          "base_uri": "https://localhost:8080/"
        },
        "id": "9xkdBRT1UOWf",
        "outputId": "ac9ac5bb-e2d6-472e-ea4e-a3f42875f583"
      },
      "source": [
        "#Get a number from the user. If that number is greater than 25, print \"Success\". Otherwise print \"Failure\"\n",
        "\n",
        "myVal = int(input(\"Enter a number: \"))\n",
        "\n",
        "if myVal > 25:   #1. Using a relational operator, 2. indentation\n",
        "  print(\"Success\")\n",
        "else:\n",
        "  print(\"Failure\")\n",
        "  "
      ],
      "execution_count": 19,
      "outputs": [
        {
          "output_type": "stream",
          "text": [
            "Enter a number: 13\n",
            "Failure\n"
          ],
          "name": "stdout"
        }
      ]
    },
    {
      "cell_type": "code",
      "metadata": {
        "colab": {
          "base_uri": "https://localhost:8080/"
        },
        "id": "nQnuTdXoWVNH",
        "outputId": "c9256f27-602a-4b67-b019-d5010e24e164"
      },
      "source": [
        "#Compare three numbers and print the highest number\n",
        "\n",
        "val1 = 10\n",
        "val2 = 8 \n",
        "val3 = 12\n",
        "\n",
        "if val1 > val2:\n",
        "  if val1 > val3:\n",
        "    print(val1, \"is the highest\")\n",
        "  else:\n",
        "    print(val3, \"is the highest\")\n",
        "else:\n",
        "  if val2 > val3:\n",
        "    print(val2, \"is the highest\")\n",
        "  else:\n",
        "    print(val3, \"is the highest\")"
      ],
      "execution_count": 23,
      "outputs": [
        {
          "output_type": "stream",
          "text": [
            "12 is the highest\n"
          ],
          "name": "stdout"
        }
      ]
    },
    {
      "cell_type": "code",
      "metadata": {
        "id": "527XiAqWaqLJ"
      },
      "source": [
        "#Exercise: input a mark of a student out of 100. Decide the grade (A, B, C, D, F) according to the input mark.\n",
        "\n",
        "#1. Use a nested if statement\n",
        "\n",
        "#2. Use an elif statement\n"
      ],
      "execution_count": null,
      "outputs": []
    },
    {
      "cell_type": "code",
      "metadata": {
        "id": "NlvdesUTa-E4"
      },
      "source": [
        "#Handling a repetition - Loops\n",
        "\n",
        "#Python has two types of loops\n",
        "#1. While loop\n",
        "#2. For loop\n",
        "\n",
        "#Python has nested loops\n"
      ],
      "execution_count": null,
      "outputs": []
    },
    {
      "cell_type": "code",
      "metadata": {
        "colab": {
          "base_uri": "https://localhost:8080/"
        },
        "id": "ezTrjlOkbuvM",
        "outputId": "2869bf8b-d8be-4f4b-8b32-324b472ed716"
      },
      "source": [
        "# Print the sequence 1,2,3,4,5,...n\n",
        "\n",
        "upperBound = 10\n",
        "counter = 1\n",
        "\n",
        "while counter <= upperBound:\n",
        "  print(counter, end= \" \")\n",
        "  counter = counter + 1   #counter += 1, counter -= 1, counter *= 3\n",
        "\n",
        "\n",
        "  #Exercises:\n",
        "  # 10, 9, 8, 7, 6....,2,1\n",
        "  #2, 4, 6, 8, 10\n",
        "  #1,3,5,7,9\n",
        "  "
      ],
      "execution_count": 24,
      "outputs": [
        {
          "output_type": "stream",
          "text": [
            "1 2 3 4 5 6 7 8 9 10 "
          ],
          "name": "stdout"
        }
      ]
    },
    {
      "cell_type": "code",
      "metadata": {
        "colab": {
          "base_uri": "https://localhost:8080/"
        },
        "id": "6tIebVVkc9Qk",
        "outputId": "f2643948-a435-455c-d0ba-fa1b816e43dc"
      },
      "source": [
        "upperBound = 10\n",
        "\n",
        "for i in range(1,upperBound+1):\n",
        "  print(i, end= \" \")"
      ],
      "execution_count": 31,
      "outputs": [
        {
          "output_type": "stream",
          "text": [
            "1 2 3 4 5 6 7 8 9 10 "
          ],
          "name": "stdout"
        }
      ]
    },
    {
      "cell_type": "code",
      "metadata": {
        "colab": {
          "base_uri": "https://localhost:8080/"
        },
        "id": "LcFhhn4IdM0L",
        "outputId": "7761d0a6-ec4f-48ba-a2d1-6a4341267165"
      },
      "source": [
        "print(list(range(2,11,2)))"
      ],
      "execution_count": 30,
      "outputs": [
        {
          "output_type": "stream",
          "text": [
            "[2, 4, 6, 8, 10]\n"
          ],
          "name": "stdout"
        }
      ]
    },
    {
      "cell_type": "code",
      "metadata": {
        "id": "a7JaSrUGdxwX"
      },
      "source": [
        "#Exercise: Working with strings\n",
        "#Exercise: Working with lists (under collections - list, tuple, dictionary, set)\n",
        "#Exercise: Working with functions\n",
        "\n",
        "#Try w3schools or tutorialspoint python tutorials"
      ],
      "execution_count": null,
      "outputs": []
    }
  ]
}
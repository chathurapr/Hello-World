{
  "nbformat": 4,
  "nbformat_minor": 0,
  "metadata": {
    "colab": {
      "name": "Python Lists.ipynb",
      "provenance": [],
      "include_colab_link": true
    },
    "kernelspec": {
      "name": "python3",
      "display_name": "Python 3"
    },
    "language_info": {
      "name": "python"
    }
  },
  "cells": [
    {
      "cell_type": "markdown",
      "metadata": {
        "id": "view-in-github",
        "colab_type": "text"
      },
      "source": [
        "<a href=\"https://colab.research.google.com/github/chathurapr/Hello-World/blob/master/Python_Lists.ipynb\" target=\"_parent\"><img src=\"https://colab.research.google.com/assets/colab-badge.svg\" alt=\"Open In Colab\"/></a>"
      ]
    },
    {
      "cell_type": "markdown",
      "metadata": {
        "id": "wNTL45z8Ng_Y"
      },
      "source": [
        "##**Programming – Python Lists** "
      ]
    },
    {
      "cell_type": "code",
      "metadata": {
        "colab": {
          "base_uri": "https://localhost:8080/"
        },
        "id": "2q09dkRgN9Eb",
        "outputId": "768f1269-ac90-48a1-c378-a4c3d8ceb03c"
      },
      "source": [
        "nums = [12, 13, 22, 40]\n",
        "deatilsList = [\"Ravi\",\"Colombo\",\"Married\"]\n",
        "testList = [\"Ravi\",12, \"Married\", 65.8]\n",
        "\n",
        "print(nums) \n",
        "print(deatilsList)\n",
        "print(testList)"
      ],
      "execution_count": null,
      "outputs": [
        {
          "output_type": "stream",
          "text": [
            "[12, 13, 22, 40]\n",
            "['Ravi', 'Colombo', 'Married']\n",
            "['Ravi', 12, 'Married', 65.8]\n"
          ],
          "name": "stdout"
        }
      ]
    },
    {
      "cell_type": "code",
      "metadata": {
        "colab": {
          "base_uri": "https://localhost:8080/"
        },
        "id": "J2K0Z0L7Nkd-",
        "outputId": "fd055336-7624-4d29-8717-6c5341232dfa"
      },
      "source": [
        "duplicatedData = [\"Ravi\", 12, \"Ravi\", \"Married\"]\n",
        "print(duplicatedData)\n"
      ],
      "execution_count": null,
      "outputs": [
        {
          "output_type": "stream",
          "text": [
            "['Ravi', 12, 'Ravi', 'Married']\n"
          ],
          "name": "stdout"
        }
      ]
    },
    {
      "cell_type": "markdown",
      "metadata": {
        "id": "DJbzayTUO5A7"
      },
      "source": [
        "Length of a List:\n"
      ]
    },
    {
      "cell_type": "code",
      "metadata": {
        "colab": {
          "base_uri": "https://localhost:8080/"
        },
        "id": "Nn_c2T-VO5ho",
        "outputId": "7cfd5277-2993-476b-8299-a9806243a294"
      },
      "source": [
        "deatilsList = [\"Ravi\",\"Colombo\",\"Married\"]\n",
        "print(len(deatilsList))"
      ],
      "execution_count": null,
      "outputs": [
        {
          "output_type": "stream",
          "text": [
            "3\n"
          ],
          "name": "stdout"
        }
      ]
    },
    {
      "cell_type": "markdown",
      "metadata": {
        "id": "c7eA6tsrPC-q"
      },
      "source": [
        "Type of a List:"
      ]
    },
    {
      "cell_type": "code",
      "metadata": {
        "colab": {
          "base_uri": "https://localhost:8080/"
        },
        "id": "DrZMVL_APEpD",
        "outputId": "00529466-4cbc-46a5-9a26-8f2cb4ea5617"
      },
      "source": [
        "deatilsList = [\"Ravi\",\"Colombo\",\"Married\"]\n",
        "print(type(deatilsList))"
      ],
      "execution_count": null,
      "outputs": [
        {
          "output_type": "stream",
          "text": [
            "<class 'list'>\n"
          ],
          "name": "stdout"
        }
      ]
    },
    {
      "cell_type": "markdown",
      "metadata": {
        "id": "6WoIwkbQPN4P"
      },
      "source": [
        "**Accessing Items:**"
      ]
    },
    {
      "cell_type": "markdown",
      "metadata": {
        "id": "hXPCAkQ8PtKg"
      },
      "source": [
        "1. indexed"
      ]
    },
    {
      "cell_type": "code",
      "metadata": {
        "colab": {
          "base_uri": "https://localhost:8080/",
          "height": 255
        },
        "id": "itcyQyAsPOST",
        "outputId": "7368fd51-0409-4ff0-84fb-541971deb511"
      },
      "source": [
        "deatilsList = [\"Ravi\",\"Colombo\",\"Married\"]\n",
        "\n",
        "print(deatilsList[0])\n",
        "print(deatilsList[1])\n",
        "print(deatilsList[2])\n",
        "print(deatilsList[3])"
      ],
      "execution_count": null,
      "outputs": [
        {
          "output_type": "stream",
          "text": [
            "Ravi\n",
            "Colombo\n",
            "Married\n"
          ],
          "name": "stdout"
        },
        {
          "output_type": "error",
          "ename": "IndexError",
          "evalue": "ignored",
          "traceback": [
            "\u001b[0;31m---------------------------------------------------------------------------\u001b[0m",
            "\u001b[0;31mIndexError\u001b[0m                                Traceback (most recent call last)",
            "\u001b[0;32m<ipython-input-215-9fffcc72fcb0>\u001b[0m in \u001b[0;36m<module>\u001b[0;34m()\u001b[0m\n\u001b[1;32m      4\u001b[0m \u001b[0mprint\u001b[0m\u001b[0;34m(\u001b[0m\u001b[0mdeatilsList\u001b[0m\u001b[0;34m[\u001b[0m\u001b[0;36m1\u001b[0m\u001b[0;34m]\u001b[0m\u001b[0;34m)\u001b[0m\u001b[0;34m\u001b[0m\u001b[0;34m\u001b[0m\u001b[0m\n\u001b[1;32m      5\u001b[0m \u001b[0mprint\u001b[0m\u001b[0;34m(\u001b[0m\u001b[0mdeatilsList\u001b[0m\u001b[0;34m[\u001b[0m\u001b[0;36m2\u001b[0m\u001b[0;34m]\u001b[0m\u001b[0;34m)\u001b[0m\u001b[0;34m\u001b[0m\u001b[0;34m\u001b[0m\u001b[0m\n\u001b[0;32m----> 6\u001b[0;31m \u001b[0mprint\u001b[0m\u001b[0;34m(\u001b[0m\u001b[0mdeatilsList\u001b[0m\u001b[0;34m[\u001b[0m\u001b[0;36m3\u001b[0m\u001b[0;34m]\u001b[0m\u001b[0;34m)\u001b[0m\u001b[0;34m\u001b[0m\u001b[0;34m\u001b[0m\u001b[0m\n\u001b[0m",
            "\u001b[0;31mIndexError\u001b[0m: list index out of range"
          ]
        }
      ]
    },
    {
      "cell_type": "markdown",
      "metadata": {
        "id": "nC78Dz_APvYR"
      },
      "source": [
        "2. Range of Indexes"
      ]
    },
    {
      "cell_type": "code",
      "metadata": {
        "colab": {
          "base_uri": "https://localhost:8080/"
        },
        "id": "vha4sZQiPxek",
        "outputId": "0f4ea93a-147a-449d-8111-f182ce20dc8b"
      },
      "source": [
        "nums = [10, 20, 30, 40, 50, 60 ,70]\n",
        "\n",
        "print(nums[2:5]) # index 2 (included) and index 5 (excluded)\n",
        "print(nums[2:]) # index 2 (included)\n",
        "print(nums[:4]) # index 4 (excluded)"
      ],
      "execution_count": null,
      "outputs": [
        {
          "output_type": "stream",
          "text": [
            "[30, 40, 50]\n",
            "[30, 40, 50, 60, 70]\n",
            "[10, 20, 30, 40]\n"
          ],
          "name": "stdout"
        }
      ]
    },
    {
      "cell_type": "markdown",
      "metadata": {
        "id": "xoU_TlhqTOch"
      },
      "source": [
        "3. Negative indexes"
      ]
    },
    {
      "cell_type": "code",
      "metadata": {
        "colab": {
          "base_uri": "https://localhost:8080/"
        },
        "id": "h8MZ5-e8QdfW",
        "outputId": "bea4e227-dda5-4814-dd22-f2ddbb7dff2b"
      },
      "source": [
        "nums = [10, 20, 30, 40, 50, 60 ,70]\n",
        "\n",
        "print(nums[-4:-1]) # index -4 (included) to index -1 (excluded)\n",
        "print(nums[-2:]) #index -2 (included)\n",
        "print(nums[:-4]) # index -4 (excluded)"
      ],
      "execution_count": null,
      "outputs": [
        {
          "output_type": "stream",
          "text": [
            "[40, 50, 60]\n",
            "[60, 70]\n",
            "[10, 20, 30]\n"
          ],
          "name": "stdout"
        }
      ]
    },
    {
      "cell_type": "markdown",
      "metadata": {
        "id": "1f0vaMdST6e2"
      },
      "source": [
        "4. Check whether an item is present in the list"
      ]
    },
    {
      "cell_type": "code",
      "metadata": {
        "colab": {
          "base_uri": "https://localhost:8080/"
        },
        "id": "CpEcxyIqT7Fx",
        "outputId": "8875d5a0-adbd-4220-ceb7-b32ab420bc8b"
      },
      "source": [
        "nums = [10, 20, 30, 40, 50, 60 ,70]\n",
        "\n",
        "if 12 in nums:\n",
        "  print(\"Yes, 12 is in the number list\")\n",
        "\n",
        "else:\n",
        "  print(\"No, 12 is not in the number list\")\n"
      ],
      "execution_count": null,
      "outputs": [
        {
          "output_type": "stream",
          "text": [
            "No, 12 is not in the number list\n"
          ],
          "name": "stdout"
        }
      ]
    },
    {
      "cell_type": "markdown",
      "metadata": {
        "id": "aW-OHlEsUjqF"
      },
      "source": [
        "**Change List items:**"
      ]
    },
    {
      "cell_type": "markdown",
      "metadata": {
        "id": "otgDBB_-Us52"
      },
      "source": [
        "1. Through indexes"
      ]
    },
    {
      "cell_type": "code",
      "metadata": {
        "colab": {
          "base_uri": "https://localhost:8080/"
        },
        "id": "I9H99qv2Uu4W",
        "outputId": "1df14351-c3da-435a-afda-6a51aef90581"
      },
      "source": [
        "nums = [10, 20, 30, 40, 50, 60 ,70]\n",
        "\n",
        "nums[2] = 78\n",
        "\n",
        "print(nums)"
      ],
      "execution_count": null,
      "outputs": [
        {
          "output_type": "stream",
          "text": [
            "[10, 20, 78, 40, 50, 60, 70]\n"
          ],
          "name": "stdout"
        }
      ]
    },
    {
      "cell_type": "markdown",
      "metadata": {
        "id": "FrO2cdSrU6cI"
      },
      "source": [
        "2. Change a Range of Items"
      ]
    },
    {
      "cell_type": "code",
      "metadata": {
        "colab": {
          "base_uri": "https://localhost:8080/"
        },
        "id": "Nmnbky3BU0Fo",
        "outputId": "fc4f21d5-6aa1-4920-ade7-f7e878396352"
      },
      "source": [
        "nums = [10, 20, 30, 40, 50, 60 ,70]\n",
        "\n",
        "nums[2:5] = [32, 34, 36]\n",
        "\n",
        "print(nums)"
      ],
      "execution_count": null,
      "outputs": [
        {
          "output_type": "stream",
          "text": [
            "[10, 20, 32, 34, 36, 60, 70]\n"
          ],
          "name": "stdout"
        }
      ]
    },
    {
      "cell_type": "markdown",
      "metadata": {
        "id": "9SMhI_ucVMQe"
      },
      "source": [
        "3. Change an Already Exsisting Values"
      ]
    },
    {
      "cell_type": "code",
      "metadata": {
        "colab": {
          "base_uri": "https://localhost:8080/"
        },
        "id": "2P6EDgymVTjw",
        "outputId": "fa03f068-ef76-48fe-b67b-664c37fe2cd7"
      },
      "source": [
        "nums = [10, 20, 30, 40, 50, 60 ,70]\n",
        "\n",
        "nums[1:2] =[15]  # Change the second value by replacing it with two new values\n",
        "print(nums)\n",
        "\n",
        "nums[1:3] = [25] # Change the second and the third value by replacing it with one value\n",
        "print(nums)"
      ],
      "execution_count": null,
      "outputs": [
        {
          "output_type": "stream",
          "text": [
            "[10, 15, 30, 40, 50, 60, 70]\n",
            "[10, 25, 40, 50, 60, 70]\n"
          ],
          "name": "stdout"
        }
      ]
    },
    {
      "cell_type": "markdown",
      "metadata": {
        "id": "wk1l521zV2CU"
      },
      "source": [
        "**Add List Items:**"
      ]
    },
    {
      "cell_type": "markdown",
      "metadata": {
        "id": "A79CM-ttV6o1"
      },
      "source": [
        "1. Insert items"
      ]
    },
    {
      "cell_type": "code",
      "metadata": {
        "colab": {
          "base_uri": "https://localhost:8080/"
        },
        "id": "26Wj2fnFWA3w",
        "outputId": "33956031-0ce0-4a1f-fa90-05fb133c3c55"
      },
      "source": [
        "testList = [\"car\", \"12\", \"computer\", 66.5]\n",
        "\n",
        "testList.insert(2, \"masks\")\n",
        "print(testList)\n"
      ],
      "execution_count": null,
      "outputs": [
        {
          "output_type": "stream",
          "text": [
            "['car', '12', 'masks', 'computer', 66.5]\n"
          ],
          "name": "stdout"
        }
      ]
    },
    {
      "cell_type": "markdown",
      "metadata": {
        "id": "batzMEllWIjG"
      },
      "source": [
        "2. Append Items"
      ]
    },
    {
      "cell_type": "code",
      "metadata": {
        "colab": {
          "base_uri": "https://localhost:8080/"
        },
        "id": "FMOym6z3WKFI",
        "outputId": "298cdbff-2283-442f-cc4c-33508b8583eb"
      },
      "source": [
        "testList = [\"car\", \"12\", \"computer\", 66.5]\n",
        "\n",
        "testList.append(\"masks\")\n",
        "print(testList)\n"
      ],
      "execution_count": null,
      "outputs": [
        {
          "output_type": "stream",
          "text": [
            "['car', '12', 'computer', 66.5, 'masks']\n"
          ],
          "name": "stdout"
        }
      ]
    },
    {
      "cell_type": "markdown",
      "metadata": {
        "id": "TWKF_u06WPno"
      },
      "source": [
        "3. Extent List"
      ]
    },
    {
      "cell_type": "code",
      "metadata": {
        "colab": {
          "base_uri": "https://localhost:8080/"
        },
        "id": "ZtTN8b1TWTSC",
        "outputId": "20fcca27-983e-422a-dd18-fd008a426179"
      },
      "source": [
        "testList = [\"car\", \"12\", \"computer\", 66.5]\n",
        "secondList = [\"Toyota\", \"Dell\"]\n",
        "\n",
        "testList.extend(secondList)\n",
        "print(testList)\n"
      ],
      "execution_count": null,
      "outputs": [
        {
          "output_type": "stream",
          "text": [
            "['car', '12', 'computer', 66.5, 'Toyota', 'Dell']\n"
          ],
          "name": "stdout"
        }
      ]
    },
    {
      "cell_type": "code",
      "metadata": {
        "colab": {
          "base_uri": "https://localhost:8080/"
        },
        "id": "m6Ze9_hsW8a2",
        "outputId": "7a0448c3-6f13-4a24-bcdf-de9535b095e9"
      },
      "source": [
        "testList = [\"car\", \"12\", \"computer\", 66.5]\n",
        "testList.extend([44, \"pejero\"]) # use []\n",
        "print(testList)\n"
      ],
      "execution_count": null,
      "outputs": [
        {
          "output_type": "stream",
          "text": [
            "['car', '12', 'computer', 66.5, 44, 'pejero']\n"
          ],
          "name": "stdout"
        }
      ]
    },
    {
      "cell_type": "markdown",
      "metadata": {
        "id": "BuaaA79nXNaH"
      },
      "source": [
        "**Remove List Items:**"
      ]
    },
    {
      "cell_type": "markdown",
      "metadata": {
        "id": "qwFJjW3SXP5N"
      },
      "source": [
        "1. remove() :  \tRemove a specific value\n",
        "\n",
        "\n"
      ]
    },
    {
      "cell_type": "code",
      "metadata": {
        "colab": {
          "base_uri": "https://localhost:8080/"
        },
        "id": "hU9Jzt4IXRQK",
        "outputId": "da8feedb-874a-4227-936a-f3891ff411a5"
      },
      "source": [
        "testList = [\"car\", 12,\"computer\", 66.5]\n",
        "\n",
        "testList.remove(12)\n",
        "print(testList)\n",
        "\n",
        "testList.remove(\"computer\")\n",
        "print(testList)"
      ],
      "execution_count": null,
      "outputs": [
        {
          "output_type": "stream",
          "text": [
            "['car', 'computer', 66.5]\n",
            "['car', 66.5]\n"
          ],
          "name": "stdout"
        }
      ]
    },
    {
      "cell_type": "markdown",
      "metadata": {
        "id": "PJElZP7VXe1_"
      },
      "source": [
        "2. pop() : Remove a specific index"
      ]
    },
    {
      "cell_type": "code",
      "metadata": {
        "colab": {
          "base_uri": "https://localhost:8080/"
        },
        "id": "Hk_CUiIvXhV3",
        "outputId": "349bb4f3-51f5-43c0-9322-f5778bad1f5b"
      },
      "source": [
        "testList = [\"car\", 12, \"computer\", 66.5]\n",
        "\n",
        "testList.pop(1)\n",
        "print(testList)"
      ],
      "execution_count": null,
      "outputs": [
        {
          "output_type": "stream",
          "text": [
            "['car', 'computer', 66.5]\n"
          ],
          "name": "stdout"
        }
      ]
    },
    {
      "cell_type": "code",
      "metadata": {
        "colab": {
          "base_uri": "https://localhost:8080/"
        },
        "id": "19gQcGH8YBkS",
        "outputId": "a182accb-e9ea-4b39-c2fe-b69559ee5a23"
      },
      "source": [
        "testList = [\"car\", 12, \"computer\", 66.5]\n",
        "\n",
        "testList.pop() #removes the last item\n",
        "print(testList)"
      ],
      "execution_count": null,
      "outputs": [
        {
          "output_type": "stream",
          "text": [
            "['car', 12, 'computer']\n"
          ],
          "name": "stdout"
        }
      ]
    },
    {
      "cell_type": "markdown",
      "metadata": {
        "id": "qvRLvUhlYOz3"
      },
      "source": [
        "3. clear() : Empties the List"
      ]
    },
    {
      "cell_type": "code",
      "metadata": {
        "colab": {
          "base_uri": "https://localhost:8080/"
        },
        "id": "6GtUwrZ3YUer",
        "outputId": "a2077d6e-5f0e-40c3-ec2d-c53882632d81"
      },
      "source": [
        "testList = [\"car\", 12, \"computer\", 66.5]\n",
        "\n",
        "testList.clear()\n",
        "print(testList)\n"
      ],
      "execution_count": null,
      "outputs": [
        {
          "output_type": "stream",
          "text": [
            "[]\n"
          ],
          "name": "stdout"
        }
      ]
    },
    {
      "cell_type": "markdown",
      "metadata": {
        "id": "SlnBhIY8YblW"
      },
      "source": [
        "4. del keyword : Delete more that one item"
      ]
    },
    {
      "cell_type": "code",
      "metadata": {
        "colab": {
          "base_uri": "https://localhost:8080/"
        },
        "id": "h0nkrBvPYhAT",
        "outputId": "c400c559-c717-42e9-9bca-ecde59004219"
      },
      "source": [
        "testList = [\"car\", 12, \"computer\", 66.5]\n",
        "\n",
        "del testList[2:]\n",
        "print(testList)\n"
      ],
      "execution_count": null,
      "outputs": [
        {
          "output_type": "stream",
          "text": [
            "['car', 12]\n"
          ],
          "name": "stdout"
        }
      ]
    },
    {
      "cell_type": "code",
      "metadata": {
        "colab": {
          "base_uri": "https://localhost:8080/",
          "height": 202
        },
        "id": "kMoPA_7lYsav",
        "outputId": "a045570a-27e4-4ade-c7d5-fa72725b5efc"
      },
      "source": [
        "testList = [\"car\", 12, \"computer\", 66.5]\n",
        "\n",
        "del testList #delete the list completely\n",
        "print(testList)"
      ],
      "execution_count": null,
      "outputs": [
        {
          "output_type": "error",
          "ename": "NameError",
          "evalue": "ignored",
          "traceback": [
            "\u001b[0;31m---------------------------------------------------------------------------\u001b[0m",
            "\u001b[0;31mNameError\u001b[0m                                 Traceback (most recent call last)",
            "\u001b[0;32m<ipython-input-199-bb6cc7f4ca54>\u001b[0m in \u001b[0;36m<module>\u001b[0;34m()\u001b[0m\n\u001b[1;32m      2\u001b[0m \u001b[0;34m\u001b[0m\u001b[0m\n\u001b[1;32m      3\u001b[0m \u001b[0;32mdel\u001b[0m \u001b[0mtestList\u001b[0m \u001b[0;31m#delete the list completely\u001b[0m\u001b[0;34m\u001b[0m\u001b[0;34m\u001b[0m\u001b[0m\n\u001b[0;32m----> 4\u001b[0;31m \u001b[0mprint\u001b[0m\u001b[0;34m(\u001b[0m\u001b[0mtestList\u001b[0m\u001b[0;34m)\u001b[0m\u001b[0;34m\u001b[0m\u001b[0;34m\u001b[0m\u001b[0m\n\u001b[0m",
            "\u001b[0;31mNameError\u001b[0m: name 'testList' is not defined"
          ]
        }
      ]
    },
    {
      "cell_type": "markdown",
      "metadata": {
        "id": "2wLijik6Y-_Y"
      },
      "source": [
        "**Loop List Items:**"
      ]
    },
    {
      "cell_type": "markdown",
      "metadata": {
        "id": "Wx-KB6qeZCL1"
      },
      "source": [
        "1.  \tLooping through the list items"
      ]
    },
    {
      "cell_type": "code",
      "metadata": {
        "colab": {
          "base_uri": "https://localhost:8080/"
        },
        "id": "E90pDzVaZDAz",
        "outputId": "9ee1ff97-aaf4-407f-9faf-41727ab64c67"
      },
      "source": [
        "#for loop\n",
        "\n",
        "testList = [\"car\", 12, \"computer\", 66.5]\n",
        "for x in testList:\n",
        "  print(x)\n"
      ],
      "execution_count": null,
      "outputs": [
        {
          "output_type": "stream",
          "text": [
            "car\n",
            "12\n",
            "computer\n",
            "66.5\n"
          ],
          "name": "stdout"
        }
      ]
    },
    {
      "cell_type": "code",
      "metadata": {
        "colab": {
          "base_uri": "https://localhost:8080/"
        },
        "id": "q1kxafAOZIsD",
        "outputId": "7fb3c5ee-1bc3-4b78-e5c2-311ffc948862"
      },
      "source": [
        "#List comprehension: \n",
        "\n",
        "testList = [\"car\", 12, \"computer\", 66.5]\n",
        "[print(x) for x in testList]\n"
      ],
      "execution_count": null,
      "outputs": [
        {
          "output_type": "stream",
          "text": [
            "car\n",
            "12\n",
            "computer\n",
            "66.5\n"
          ],
          "name": "stdout"
        },
        {
          "output_type": "execute_result",
          "data": {
            "text/plain": [
              "[None, None, None, None]"
            ]
          },
          "metadata": {
            "tags": []
          },
          "execution_count": 197
        }
      ]
    },
    {
      "cell_type": "code",
      "metadata": {
        "colab": {
          "base_uri": "https://localhost:8080/"
        },
        "id": "uFdweLPNZOQy",
        "outputId": "1719fc9b-1ac9-47ed-fbaf-d9240f9ad6e2"
      },
      "source": [
        "# while loop\n",
        "\n",
        "testList = [\"car\", 12, \"computer\", 66.5]\n",
        "\n",
        "i = 0  # start at 0\n",
        "while i < len(testList): # function to determine the length of the list\n",
        "  print(testList[i])\n",
        "  i = i + 1"
      ],
      "execution_count": null,
      "outputs": [
        {
          "output_type": "stream",
          "text": [
            "car\n",
            "12\n",
            "computer\n",
            "66.5\n"
          ],
          "name": "stdout"
        }
      ]
    },
    {
      "cell_type": "markdown",
      "metadata": {
        "id": "EflrIUUAZiDM"
      },
      "source": [
        "2.  \tLooping through the items by referring to their index numbers using range() and len()"
      ]
    },
    {
      "cell_type": "code",
      "metadata": {
        "colab": {
          "base_uri": "https://localhost:8080/"
        },
        "id": "BH_okSp3Zi1p",
        "outputId": "870f91f7-ac0b-4680-f432-7a2b3c3e1758"
      },
      "source": [
        "testList = [\"car\", 12, \"computer\", 66.5]\n",
        "\n",
        "for x in range(len(testList)):\n",
        "  print(testList[x])\n"
      ],
      "execution_count": null,
      "outputs": [
        {
          "output_type": "stream",
          "text": [
            "car\n",
            "12\n",
            "computer\n",
            "66.5\n"
          ],
          "name": "stdout"
        }
      ]
    },
    {
      "cell_type": "markdown",
      "metadata": {
        "id": "5yiOFN1lZvPJ"
      },
      "source": [
        "**List Comprehension**"
      ]
    },
    {
      "cell_type": "code",
      "metadata": {
        "colab": {
          "base_uri": "https://localhost:8080/"
        },
        "id": "z9Cl24lEZwlo",
        "outputId": "3aba4130-56c2-4085-ad93-fc18099448e1"
      },
      "source": [
        "testList = [\"car\",\"computer\",\"cat\"]\n",
        "\n",
        "for x in range(len(testList)):\n",
        "  newList = []\n",
        "\n",
        "for x in testList:\n",
        "  if \"a\" in x:\n",
        "    newList.append(x)\n",
        "\n",
        "print(newList)\n"
      ],
      "execution_count": null,
      "outputs": [
        {
          "output_type": "stream",
          "text": [
            "['car', 'cat']\n"
          ],
          "name": "stdout"
        }
      ]
    },
    {
      "cell_type": "code",
      "metadata": {
        "colab": {
          "base_uri": "https://localhost:8080/"
        },
        "id": "KfCLIMUnaAfz",
        "outputId": "cb763152-9e0e-4d0f-8758-7268f5cffd23"
      },
      "source": [
        "testList = [\"car\",\"computer\",\"cat\"]\n",
        "\n",
        "newlist = [x for x in testList if \"a\" in x]\n",
        "print(newlist)\n"
      ],
      "execution_count": null,
      "outputs": [
        {
          "output_type": "stream",
          "text": [
            "['car', 'cat']\n"
          ],
          "name": "stdout"
        }
      ]
    },
    {
      "cell_type": "markdown",
      "metadata": {
        "id": "ZFws2Vroa_N0"
      },
      "source": [
        "1. Conditions"
      ]
    },
    {
      "cell_type": "code",
      "metadata": {
        "colab": {
          "base_uri": "https://localhost:8080/"
        },
        "id": "q4dbOUgjbARp",
        "outputId": "19e35368-5691-4f82-e460-3bbe3bf3207f"
      },
      "source": [
        "testList = [\"car\", \"12\", \"computer\", 66.5]\n",
        "\n",
        "newList = [x for x in testList if x !=\"car\"] \n",
        "#return a new list containing all the other values other than car because x !=\"car\" is true for them.\n",
        "\n",
        "print(newList)\n"
      ],
      "execution_count": null,
      "outputs": [
        {
          "output_type": "stream",
          "text": [
            "['12', 'computer', 66.5]\n"
          ],
          "name": "stdout"
        }
      ]
    },
    {
      "cell_type": "markdown",
      "metadata": {
        "id": "WywsgK0WbNxG"
      },
      "source": [
        "2. Iterable"
      ]
    },
    {
      "cell_type": "code",
      "metadata": {
        "colab": {
          "base_uri": "https://localhost:8080/"
        },
        "id": "O2w8ELApbQJq",
        "outputId": "e785be55-ba2a-4dce-f1d1-ae0e7f39346a"
      },
      "source": [
        "newList = [x for x in range(10)]\n",
        "print(newList)\n",
        "\n",
        "newList = [x for x in range(10) if x < 5]\n",
        "print(newList)"
      ],
      "execution_count": null,
      "outputs": [
        {
          "output_type": "stream",
          "text": [
            "[0, 1, 2, 3, 4, 5, 6, 7, 8, 9]\n",
            "[0, 1, 2, 3, 4]\n"
          ],
          "name": "stdout"
        }
      ]
    },
    {
      "cell_type": "markdown",
      "metadata": {
        "id": "n1lwtEx_bfMW"
      },
      "source": [
        "Expression:\n"
      ]
    },
    {
      "cell_type": "code",
      "metadata": {
        "colab": {
          "base_uri": "https://localhost:8080/"
        },
        "id": "R5uFtm6abgZk",
        "outputId": "24bd0a9f-563e-47f0-e30a-f211e59d8848"
      },
      "source": [
        "vehicleList = [\"car\", \"train\"]\n",
        "\n",
        "newList = [x.upper() for x in vehicleList]\n",
        "print(newList)\n",
        "\n",
        "newList = [x if x != \"car\" else \"pajero\" for x in vehicleList]\n",
        "print(newList)\n",
        "\n",
        "newList = [\"Vehicles\" for x in vehicleList]\n",
        "print(newList)\n"
      ],
      "execution_count": null,
      "outputs": [
        {
          "output_type": "stream",
          "text": [
            "['CAR', 'TRAIN']\n",
            "['pajero', 'train']\n",
            "['Vehicles', 'Vehicles']\n"
          ],
          "name": "stdout"
        }
      ]
    },
    {
      "cell_type": "markdown",
      "metadata": {
        "id": "5F2e1GhIcBXN"
      },
      "source": [
        "**Sort Lists**"
      ]
    },
    {
      "cell_type": "markdown",
      "metadata": {
        "id": "AYkYehJCcEvt"
      },
      "source": [
        "1.  \tAlphanumerically"
      ]
    },
    {
      "cell_type": "code",
      "metadata": {
        "colab": {
          "base_uri": "https://localhost:8080/"
        },
        "id": "6yEhOl_zcFn_",
        "outputId": "0630c911-2e38-4620-c0d9-f3eb0c69f992"
      },
      "source": [
        "vehicleList = [\"Car\", \"Train\", \"Van\", \"Bike\"]\n",
        "vehicleList.sort()\n",
        "print(vehicleList)\n",
        "\n",
        "#ascending\n",
        "numberList = [100, 50, 65, 82, 23]\n",
        "numberList.sort()\n",
        "print(numberList)\n",
        "\n",
        "#descending\n",
        "numberList = [100, 50, 65, 82, 23]\n",
        "numberList.sort(reverse = True)\n",
        "print(numberList)\n"
      ],
      "execution_count": null,
      "outputs": [
        {
          "output_type": "stream",
          "text": [
            "['Bike', 'Car', 'Train', 'Van']\n",
            "[23, 50, 65, 82, 100]\n",
            "[100, 82, 65, 50, 23]\n"
          ],
          "name": "stdout"
        }
      ]
    },
    {
      "cell_type": "markdown",
      "metadata": {
        "id": "qMIO3jZycaqD"
      },
      "source": [
        "2.  \tCase Insensitive Sort"
      ]
    },
    {
      "cell_type": "code",
      "metadata": {
        "colab": {
          "base_uri": "https://localhost:8080/"
        },
        "id": "ZrexUhMxcbOQ",
        "outputId": "68a12871-c6a2-420f-ad5a-bde20b6729b5"
      },
      "source": [
        "vehicleList = [\"car\", \"Train\", \"Van\", \"bike\"]\n",
        "\n",
        "#vehicleList.sort()\n",
        "vehicleList.sort(key = str.lower)\n",
        "\n",
        "print(vehicleList)\n"
      ],
      "execution_count": null,
      "outputs": [
        {
          "output_type": "stream",
          "text": [
            "['bike', 'car', 'Train', 'Van']\n"
          ],
          "name": "stdout"
        }
      ]
    },
    {
      "cell_type": "markdown",
      "metadata": {
        "id": "_tsVoJpxcr2E"
      },
      "source": [
        "3.  \tReverse Order\n"
      ]
    },
    {
      "cell_type": "code",
      "metadata": {
        "colab": {
          "base_uri": "https://localhost:8080/"
        },
        "id": "WlxYiNFHcs5P",
        "outputId": "dfae2de2-0a32-4a21-a347-92e65cc3abbe"
      },
      "source": [
        "vehicleList = [\"Car\", \"Train\", \"Van\", \"Bike\"]\n",
        "\n",
        "vehicleList.reverse()\n",
        "print(vehicleList)\n"
      ],
      "execution_count": null,
      "outputs": [
        {
          "output_type": "stream",
          "text": [
            "['Bike', 'Van', 'Train', 'Car']\n"
          ],
          "name": "stdout"
        }
      ]
    },
    {
      "cell_type": "markdown",
      "metadata": {
        "id": "mTpplzAvc7nO"
      },
      "source": [
        "**Copy Lists**"
      ]
    },
    {
      "cell_type": "markdown",
      "metadata": {
        "id": "28wSbJq_c_Ed"
      },
      "source": [
        "1. copy()"
      ]
    },
    {
      "cell_type": "code",
      "metadata": {
        "colab": {
          "base_uri": "https://localhost:8080/"
        },
        "id": "ZgkKgpvBdAeF",
        "outputId": "4b47994d-888c-42b2-a474-35b2a63d0d97"
      },
      "source": [
        "testList = [\"car\", 12, \"computer\", 66.5]\n",
        "\n",
        "newCopyList = testList.copy()\n",
        "print(newCopyList)\n"
      ],
      "execution_count": null,
      "outputs": [
        {
          "output_type": "stream",
          "text": [
            "['car', 12, 'computer', 66.5]\n"
          ],
          "name": "stdout"
        }
      ]
    },
    {
      "cell_type": "markdown",
      "metadata": {
        "id": "XY14aSUbdHFg"
      },
      "source": [
        "2. list() "
      ]
    },
    {
      "cell_type": "code",
      "metadata": {
        "colab": {
          "base_uri": "https://localhost:8080/"
        },
        "id": "F1LdcQSMdIpm",
        "outputId": "2a8b93e5-796b-4f86-f865-bc707e895309"
      },
      "source": [
        "testList = [\"car\", 12, \"computer\", 66.5]\n",
        "\n",
        "newCopyList= list(testList)\n",
        "print(newCopyList)\n"
      ],
      "execution_count": null,
      "outputs": [
        {
          "output_type": "stream",
          "text": [
            "['car', 12, 'computer', 66.5]\n"
          ],
          "name": "stdout"
        }
      ]
    },
    {
      "cell_type": "markdown",
      "metadata": {
        "id": "gzFtTm8eddI_"
      },
      "source": [
        "**Join/ concatenate Two Lists**"
      ]
    },
    {
      "cell_type": "code",
      "metadata": {
        "id": "YwoGcETPde5T"
      },
      "source": [
        "firstList = [\"a\", 12, \"c\"]\n",
        "secondList = [1, \"b\", 3]"
      ],
      "execution_count": null,
      "outputs": []
    },
    {
      "cell_type": "code",
      "metadata": {
        "colab": {
          "base_uri": "https://localhost:8080/"
        },
        "id": "iyshLUYedmbU",
        "outputId": "bb46e904-ba40-4d6d-cb2f-87dd56be132a"
      },
      "source": [
        "# Using +\n",
        "\n",
        "thirdList = firstList + secondList\n",
        "print(thirdList)\n"
      ],
      "execution_count": null,
      "outputs": [
        {
          "output_type": "stream",
          "text": [
            "['a', 12, 'c', 1, 'b', 3, 1, 'b', 3]\n"
          ],
          "name": "stdout"
        }
      ]
    },
    {
      "cell_type": "code",
      "metadata": {
        "colab": {
          "base_uri": "https://localhost:8080/"
        },
        "id": "_YhtOV4Edo5Q",
        "outputId": "5ae9b94f-d054-4729-9352-46711cd1f938"
      },
      "source": [
        "# Using append() method\n",
        "\n",
        "firstList = [\"a\", 12, \"c\"]\n",
        "secondList = [1, \"b\", 3]\n",
        "\n",
        "for x in secondList:\n",
        " firstList.append(x)\n",
        "\n",
        "print(firstList)\n"
      ],
      "execution_count": null,
      "outputs": [
        {
          "output_type": "stream",
          "text": [
            "['a', 12, 'c', 1, 'b', 3]\n"
          ],
          "name": "stdout"
        }
      ]
    },
    {
      "cell_type": "code",
      "metadata": {
        "colab": {
          "base_uri": "https://localhost:8080/"
        },
        "id": "-pDw56JNd30Y",
        "outputId": "0663ec24-1f11-419f-fd72-c23c94d08d5d"
      },
      "source": [
        "# using extend() method\n",
        "\n",
        "firstList.extend(secondList)\n",
        "print(firstList)\n"
      ],
      "execution_count": null,
      "outputs": [
        {
          "output_type": "stream",
          "text": [
            "['a', 12, 'c', 1, 'b', 3, 1, 'b', 3]\n"
          ],
          "name": "stdout"
        }
      ]
    },
    {
      "cell_type": "markdown",
      "metadata": {
        "id": "ksWENFfHd8nn"
      },
      "source": [
        "**Count the number of items**"
      ]
    },
    {
      "cell_type": "code",
      "metadata": {
        "colab": {
          "base_uri": "https://localhost:8080/"
        },
        "id": "xrc2GWYAd-Zm",
        "outputId": "c132faac-c739-4850-a920-ff2181cf87b9"
      },
      "source": [
        "testList = [\"car\", \"12\", \"computer\", 66.5, \"car\"]\n",
        "count = testList.count(\"car\")\n",
        "print(count)\n"
      ],
      "execution_count": null,
      "outputs": [
        {
          "output_type": "stream",
          "text": [
            "2\n"
          ],
          "name": "stdout"
        }
      ]
    },
    {
      "cell_type": "markdown",
      "metadata": {
        "id": "7dO2rU7SeLTw"
      },
      "source": [
        "**Position of a list items**"
      ]
    },
    {
      "cell_type": "code",
      "metadata": {
        "colab": {
          "base_uri": "https://localhost:8080/"
        },
        "id": "IAPkAiIUeRTs",
        "outputId": "bdf2b97d-ea2e-4ddd-9730-fdb0d05ba10d"
      },
      "source": [
        "testList = [\"car\", \"12\", \"computer\", 66.5, \"car\"]\n",
        "indexPosition = testList.index(\"car\")\n",
        "print(indexPosition)\n"
      ],
      "execution_count": null,
      "outputs": [
        {
          "output_type": "stream",
          "text": [
            "0\n"
          ],
          "name": "stdout"
        }
      ]
    },
    {
      "cell_type": "markdown",
      "metadata": {
        "id": "iPMW22BQeluq"
      },
      "source": [
        "**In - built Functions:**\n",
        "\n",
        "\n",
        "\n",
        "\n",
        "1.   min()\n",
        "2.   max()\n",
        "3.   sort()\n",
        "\n"
      ]
    },
    {
      "cell_type": "code",
      "metadata": {
        "colab": {
          "base_uri": "https://localhost:8080/"
        },
        "id": "v6lqCL9nexJk",
        "outputId": "1b672354-2acf-46bc-83d1-cea349a75d07"
      },
      "source": [
        "numberList = [100, 50, 65, 82, 23]\n",
        "\n",
        "print(min(numberList))\n",
        "print(max(numberList))\n",
        "\n",
        "numberList.sort()\n",
        "print(numberList)"
      ],
      "execution_count": null,
      "outputs": [
        {
          "output_type": "stream",
          "text": [
            "23\n",
            "100\n",
            "[23, 50, 65, 82, 100]\n"
          ],
          "name": "stdout"
        }
      ]
    }
  ]
}
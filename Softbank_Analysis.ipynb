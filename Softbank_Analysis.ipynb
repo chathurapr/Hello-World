{
  "nbformat": 4,
  "nbformat_minor": 0,
  "metadata": {
    "colab": {
      "name": "Softbank_Analysis.ipynb",
      "provenance": [],
      "collapsed_sections": [],
      "authorship_tag": "ABX9TyMQB+vgSxqfgIxc/BddJRmO",
      "include_colab_link": true
    },
    "kernelspec": {
      "name": "python3",
      "display_name": "Python 3"
    },
    "language_info": {
      "name": "python"
    }
  },
  "cells": [
    {
      "cell_type": "markdown",
      "metadata": {
        "id": "view-in-github",
        "colab_type": "text"
      },
      "source": [
        "<a href=\"https://colab.research.google.com/github/chathurapr/MDA-Programming/blob/master/Softbank_Analysis.ipynb\" target=\"_parent\"><img src=\"https://colab.research.google.com/assets/colab-badge.svg\" alt=\"Open In Colab\"/></a>"
      ]
    },
    {
      "cell_type": "code",
      "metadata": {
        "id": "GSRPQFp-u-am"
      },
      "source": [
        "import pandas as pd\n",
        "\n",
        "#splitting the dataset into chunks of 1M records\n",
        "df_chunk = pd.read_csv('D:\\BDA\\Softbank-01.txt',sep =',',chunksize = 1000000)\n",
        "count = 0\n",
        "\n",
        "#Inspecting chunks separately\n",
        "for chunk in df_chunk:\n",
        "    myID = chunk[\"dailyid\"][5]\n",
        "    myList = []\n",
        "    for index,row in chunk.iterrows():\n",
        "        if row[\"dailyid\"] == myID:\n",
        "            myList.append(row)\n",
        "        \n",
        "    count += 1\n",
        "    if count == 1:\n",
        "        break\n",
        "\n",
        "#printing the movement of one person\n",
        "for x in myList:\n",
        "    print(x[1],\"\\t\",x[2],\"\\t\",x[3],\"\\t\",x[7],\"\\t\",x[8])"
      ],
      "execution_count": null,
      "outputs": []
    }
  ]
}
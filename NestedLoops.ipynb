{
  "nbformat": 4,
  "nbformat_minor": 0,
  "metadata": {
    "colab": {
      "name": "NestedLoops.ipynb",
      "provenance": [],
      "collapsed_sections": [],
      "authorship_tag": "ABX9TyMDur87XJsjEN5hzhYTVKwk",
      "include_colab_link": true
    },
    "kernelspec": {
      "name": "python3",
      "display_name": "Python 3"
    },
    "language_info": {
      "name": "python"
    }
  },
  "cells": [
    {
      "cell_type": "markdown",
      "metadata": {
        "id": "view-in-github",
        "colab_type": "text"
      },
      "source": [
        "<a href=\"https://colab.research.google.com/github/chathurapr/MDA-Programming/blob/master/NestedLoops.ipynb\" target=\"_parent\"><img src=\"https://colab.research.google.com/assets/colab-badge.svg\" alt=\"Open In Colab\"/></a>"
      ]
    },
    {
      "cell_type": "markdown",
      "metadata": {
        "id": "HfrUcw95oSTG"
      },
      "source": [
        "1. Checking if the letter 'a' is in a list item and prepare a new list accordingly."
      ]
    },
    {
      "cell_type": "code",
      "metadata": {
        "colab": {
          "base_uri": "https://localhost:8080/"
        },
        "id": "wvTDJ9EPg4SZ",
        "outputId": "49ca59f2-0b1d-42d7-c50e-494e9c01d3e5"
      },
      "source": [
        "\n",
        "myList = ['car', 'van', 'bus', 'lorry']\n",
        "newList = []\n",
        "\n",
        "for x in myList:\n",
        "  if 'a' in x:\n",
        "    newList.append(x)\n",
        "\n",
        "print(newList)"
      ],
      "execution_count": null,
      "outputs": [
        {
          "output_type": "stream",
          "text": [
            "['car', 'van']\n"
          ],
          "name": "stdout"
        }
      ]
    },
    {
      "cell_type": "markdown",
      "metadata": {
        "id": "hMqUJqJ0pBQz"
      },
      "source": [
        "### 2. Can we write the above using a lesser number of lines?"
      ]
    },
    {
      "cell_type": "code",
      "metadata": {
        "colab": {
          "base_uri": "https://localhost:8080/"
        },
        "id": "P2CA9e-UpKSR",
        "outputId": "4c8f6dbc-2f76-455c-a03e-0f1dbc8a97cc"
      },
      "source": [
        "myList = ['car', 'van', 'bus', 'lorry']\n",
        "\n",
        "newList = [x for x in myList if 'a' in x]\n",
        "\n",
        "print(newList)"
      ],
      "execution_count": null,
      "outputs": [
        {
          "output_type": "stream",
          "text": [
            "['car', 'van']\n"
          ],
          "name": "stdout"
        }
      ]
    },
    {
      "cell_type": "markdown",
      "metadata": {
        "id": "pq9QOx3CtRoz"
      },
      "source": [
        "### 3. Let's find the factorial value"
      ]
    },
    {
      "cell_type": "code",
      "metadata": {
        "colab": {
          "base_uri": "https://localhost:8080/"
        },
        "id": "HYHVEATLtbI_",
        "outputId": "84ab4df9-e920-41d9-974c-4e80f5859eb6"
      },
      "source": [
        "val = 5\n",
        "ans = 1\n",
        "\n",
        "for i in range(2,val+1): #2X3X4X5\n",
        "  ans *= i\n",
        "\n",
        "print(ans)\n"
      ],
      "execution_count": null,
      "outputs": [
        {
          "output_type": "stream",
          "text": [
            "120\n"
          ],
          "name": "stdout"
        }
      ]
    },
    {
      "cell_type": "code",
      "metadata": {
        "colab": {
          "base_uri": "https://localhost:8080/"
        },
        "id": "6yCDhmRf36dG",
        "outputId": "9b652391-0383-4987-e6d6-57f7e4212075"
      },
      "source": [
        "value = int(input(\"Enter the value\"))\n",
        "myList = [0,1]\n",
        "for i in range(1, value, 1):\n",
        "  insertValue = myList[i] + myList[i-1]\n",
        "  if insertValue > value:\n",
        "    break\n",
        "  else:\n",
        "    myList.append(insertValue) \n",
        "print(myList)\n"
      ],
      "execution_count": null,
      "outputs": [
        {
          "output_type": "stream",
          "text": [
            "Enter the value25\n",
            "[0, 1, 1, 2, 3, 5, 8, 13, 21]\n"
          ],
          "name": "stdout"
        }
      ]
    },
    {
      "cell_type": "markdown",
      "metadata": {
        "id": "tmoPliFapsk8"
      },
      "source": [
        "### 4. Let's create the fibonacci series 0,1,1,2,3,5,......."
      ]
    },
    {
      "cell_type": "code",
      "metadata": {
        "colab": {
          "base_uri": "https://localhost:8080/"
        },
        "id": "VDPQIcQVp5e_",
        "outputId": "23613110-e969-45aa-d32e-e7e1bee7f850"
      },
      "source": [
        "fSeries = [0,1]\n",
        "length = 10\n",
        "\n",
        "if length > 2:\n",
        "  \n",
        "  num1 = 0  #Index of the first element\n",
        "  num2 = 1\n",
        "\n",
        "  for i in range(length - 2):\n",
        "    fSeries.append(fSeries[num1] + fSeries[num2])\n",
        "    num1 += 1\n",
        "    num2 += 1\n",
        "\n",
        "print(fSeries)"
      ],
      "execution_count": null,
      "outputs": [
        {
          "output_type": "stream",
          "text": [
            "[0, 1, 1, 2, 3, 5, 8, 13, 21, 34]\n"
          ],
          "name": "stdout"
        }
      ]
    },
    {
      "cell_type": "code",
      "metadata": {
        "colab": {
          "base_uri": "https://localhost:8080/"
        },
        "id": "IR2wwU5O41e8",
        "outputId": "feef4c5f-3e59-4402-e393-58719d2d3178"
      },
      "source": [
        "from numpy import random\n",
        "\n",
        "myList = random.randint(1,999,size=(150))\n",
        "print(myList)"
      ],
      "execution_count": null,
      "outputs": [
        {
          "output_type": "stream",
          "text": [
            "[162 663 355 550 996  95 236 228 851 386   1 110 460 480 500 133 532 198\n",
            "  58 774 653 530 185 610 214 686 783 593 128 924 726 304 584 179  73 500\n",
            " 758 245 234 658 820 806 848 108 745 912 435 361 966   6 211 228   1 563\n",
            " 678 732 767 375 982 834 946 375 992 988 474 778 122 603 202 121 965 992\n",
            " 552 268 594 702 698 206 745 527 202 969  11 909 331 205 580 326 848 822\n",
            " 649 603 538 622 757 621  73 908 538  99 401 125 991 217 296 843 596 224\n",
            " 117 528  22 878 896 807 806 199 316 468 799 372 855 125 568 817 532 745\n",
            " 410 719 777 287 532 258 187 805 168 854 778 327 660 523  34 173 455 970\n",
            " 908 332 615  87  17 146]\n"
          ],
          "name": "stdout"
        }
      ]
    },
    {
      "cell_type": "markdown",
      "metadata": {
        "id": "xKzipMC8uVa-"
      },
      "source": [
        "### 5. Shall we search a value in a list?"
      ]
    },
    {
      "cell_type": "code",
      "metadata": {
        "colab": {
          "base_uri": "https://localhost:8080/"
        },
        "id": "Fqf_KCZBuRJL",
        "outputId": "a27e6b66-867e-4ef6-a024-8334bdd3bbe1"
      },
      "source": [
        "from numpy import random\n",
        "\n",
        "myList = random.randint(1,999999,size=(987500))\n",
        "#print(myList)\n",
        "\n",
        "searchVal = -1\n",
        "found = False\n",
        "loc = -1\n",
        "\n",
        "for i in range(0, len(myList)):\n",
        "  if myList[i]==searchVal:\n",
        "    found = True\n",
        "    loc = i\n",
        "    break\n",
        "\n",
        "if found == True:\n",
        "  print(\"The value is available at\", i)\n",
        "else:\n",
        "  print(\"Tha value is not available\")\n"
      ],
      "execution_count": null,
      "outputs": [
        {
          "output_type": "stream",
          "text": [
            "Tha value is not available\n"
          ],
          "name": "stdout"
        }
      ]
    },
    {
      "cell_type": "markdown",
      "metadata": {
        "id": "9mYXBUDX4ywh"
      },
      "source": [
        "### Can you sort a given list?"
      ]
    },
    {
      "cell_type": "code",
      "metadata": {
        "colab": {
          "base_uri": "https://localhost:8080/"
        },
        "id": "UT15GPAj46pl",
        "outputId": "7c2f8989-38f0-4bc1-cca9-3f38fef31359"
      },
      "source": [
        "#Bubble sort algorithm\n",
        "\n",
        "myList = [91, 66, 18, 64, 50, 47, 48, 92,  4, 59,  6, 30, 31, 54,  2] \n",
        "\n",
        "\n",
        "for i in range(0,len(myList)-1):\n",
        "  temp = -1\n",
        "  if myList[i] > myList[i+1]:\n",
        "    temp = myList[i+1]\n",
        "    myList[i+1] = myList[i]\n",
        "    myList[i] = temp\n",
        "\n",
        "print(myList)\n",
        "\n"
      ],
      "execution_count": null,
      "outputs": [
        {
          "output_type": "stream",
          "text": [
            "[66, 18, 64, 50, 47, 48, 91, 4, 59, 6, 30, 31, 54, 2, 92]\n"
          ],
          "name": "stdout"
        }
      ]
    },
    {
      "cell_type": "markdown",
      "metadata": {
        "id": "kXe7tpa45DMT"
      },
      "source": [
        "### can you generate a given pattern using stars?"
      ]
    },
    {
      "cell_type": "code",
      "metadata": {
        "colab": {
          "base_uri": "https://localhost:8080/"
        },
        "id": "U5oPEzCLPxKb",
        "outputId": "c37343cb-63c3-45af-e7f2-9b55dbca0b39"
      },
      "source": [
        "val = 5\n",
        "\n",
        "for i in range(0,val):\n",
        "  for j in range(0,val):\n",
        "    print('*',end=\" \")\n",
        "  print(\"\\n\")\n",
        "  \n",
        "\n",
        "myStr = \"\"\n",
        "for i in range(0,val):\n",
        "  for j in range(0,val):\n",
        "    myStr = myStr + \"* \"\n",
        "  myStr = myStr + \"\\n\"\n",
        "\n",
        "print(myStr)\n",
        "  \n",
        "  \n",
        "\n",
        " "
      ],
      "execution_count": null,
      "outputs": [
        {
          "output_type": "stream",
          "text": [
            "* * * * * \n",
            "\n",
            "* * * * * \n",
            "\n",
            "* * * * * \n",
            "\n",
            "* * * * * \n",
            "\n",
            "* * * * * \n",
            "\n",
            "* * * * * \n",
            "* * * * * \n",
            "* * * * * \n",
            "* * * * * \n",
            "* * * * * \n",
            "\n"
          ],
          "name": "stdout"
        }
      ]
    },
    {
      "cell_type": "code",
      "metadata": {
        "colab": {
          "base_uri": "https://localhost:8080/"
        },
        "id": "MCs3Xy2j5CQT",
        "outputId": "d570019a-9e99-4ae0-ec71-a8b00fedc8f3"
      },
      "source": [
        "x = 5\n",
        "for i in range(1, x+1):\n",
        "  for j in range(1,i+1):\n",
        "    print(\"*\", end = \" \")\n",
        "  print(\"\\n\")"
      ],
      "execution_count": null,
      "outputs": [
        {
          "output_type": "stream",
          "text": [
            "* \n",
            "\n",
            "* * \n",
            "\n",
            "* * * \n",
            "\n",
            "* * * * \n",
            "\n",
            "* * * * * \n",
            "\n"
          ],
          "name": "stdout"
        }
      ]
    },
    {
      "cell_type": "code",
      "metadata": {
        "colab": {
          "base_uri": "https://localhost:8080/"
        },
        "id": "VBwM6AwmABhC",
        "outputId": "791c3066-994b-4964-94f0-6a3fe965d285"
      },
      "source": [
        "x = 5\n",
        "for i in range(x,0,-1):\n",
        "  for j in range(i):\n",
        "    print(\"*\", end = \" \")\n",
        "  print(\"\\n\")"
      ],
      "execution_count": null,
      "outputs": [
        {
          "output_type": "stream",
          "text": [
            "* * * * * \n",
            "\n",
            "* * * * \n",
            "\n",
            "* * * \n",
            "\n",
            "* * \n",
            "\n",
            "* \n",
            "\n"
          ],
          "name": "stdout"
        }
      ]
    },
    {
      "cell_type": "code",
      "metadata": {
        "colab": {
          "base_uri": "https://localhost:8080/"
        },
        "id": "335GHe5eAGhD",
        "outputId": "3f2093f2-78eb-4029-cf49-03379059d04f"
      },
      "source": [
        "x = 9  #make sure x is an odd number\n",
        "for i in range(1, x+1):\n",
        "  if i <= (x//2+1):\n",
        "    for j in range(1,i+1):\n",
        "      print(\"*\", end = \" \")\n",
        "    print(\"\\n\")\n",
        "  else:\n",
        "    for j in range(1,x-i+2):\n",
        "      print(\"*\", end = \" \")\n",
        "    print(\"\\n\")"
      ],
      "execution_count": null,
      "outputs": [
        {
          "output_type": "stream",
          "text": [
            "* \n",
            "\n",
            "* * \n",
            "\n",
            "* * * \n",
            "\n",
            "* * * * \n",
            "\n",
            "* * * * * \n",
            "\n",
            "* * * * \n",
            "\n",
            "* * * \n",
            "\n",
            "* * \n",
            "\n",
            "* \n",
            "\n"
          ],
          "name": "stdout"
        }
      ]
    },
    {
      "cell_type": "code",
      "metadata": {
        "colab": {
          "base_uri": "https://localhost:8080/"
        },
        "id": "KhF8k-DCAPFq",
        "outputId": "d589aa1f-957b-4bec-d716-7bd150219024"
      },
      "source": [
        "x = 5\n",
        "for i in range(1,x):\n",
        "  print(\" \"*(x-i-1), end = \"\")\n",
        "  for j in range(i):\n",
        "    print(\"*\", end = \" \")\n",
        "  print(\"\\n\")"
      ],
      "execution_count": null,
      "outputs": [
        {
          "output_type": "stream",
          "text": [
            "   * \n",
            "\n",
            "  * * \n",
            "\n",
            " * * * \n",
            "\n",
            "* * * * \n",
            "\n"
          ],
          "name": "stdout"
        }
      ]
    },
    {
      "cell_type": "code",
      "metadata": {
        "colab": {
          "base_uri": "https://localhost:8080/"
        },
        "id": "2ESWwDKtAW1v",
        "outputId": "43964ff8-ee1d-4b31-fcf0-e040c85560e0"
      },
      "source": [
        "x = 5\n",
        "for i in range(x,0,-1):\n",
        "  print(\" \"*(x-i), end = \"\")\n",
        "  for j in range(i):\n",
        "    print(\"*\", end = \" \")\n",
        "  print(\"\\n\")"
      ],
      "execution_count": null,
      "outputs": [
        {
          "output_type": "stream",
          "text": [
            "* * * * * \n",
            "\n",
            " * * * * \n",
            "\n",
            "  * * * \n",
            "\n",
            "   * * \n",
            "\n",
            "    * \n",
            "\n"
          ],
          "name": "stdout"
        }
      ]
    },
    {
      "cell_type": "markdown",
      "metadata": {
        "id": "h1jMRkDhBX7t"
      },
      "source": [
        "##Finding permutations of a given set of characters"
      ]
    },
    {
      "cell_type": "code",
      "metadata": {
        "colab": {
          "base_uri": "https://localhost:8080/"
        },
        "id": "2G6tvY6JW3V_",
        "outputId": "e6524500-8426-4d39-a80c-98dcd931a320"
      },
      "source": [
        "myStr = \"ABCD\"\n",
        "pLst = []\n",
        "for i in myStr:\n",
        "  for j in myStr:\n",
        "    if i != j:\n",
        "      for k in myStr:\n",
        "        if k != i and k != j:\n",
        "          for l in myStr:\n",
        "            if l != i and l != j and l != k:\n",
        "              pLst.append(i + j + k+l)\n",
        "print(pLst)\n"
      ],
      "execution_count": null,
      "outputs": [
        {
          "output_type": "stream",
          "text": [
            "['ABCD', 'ABDC', 'ACBD', 'ACDB', 'ADBC', 'ADCB', 'BACD', 'BADC', 'BCAD', 'BCDA', 'BDAC', 'BDCA', 'CABD', 'CADB', 'CBAD', 'CBDA', 'CDAB', 'CDBA', 'DABC', 'DACB', 'DBAC', 'DBCA', 'DCAB', 'DCBA']\n"
          ],
          "name": "stdout"
        }
      ]
    },
    {
      "cell_type": "markdown",
      "metadata": {
        "id": "zAF8gFJgbQIo"
      },
      "source": [
        "Can you build a binary tree from data?"
      ]
    }
  ]
}